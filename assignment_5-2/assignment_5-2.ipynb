{
 "cells": [
  {
   "cell_type": "code",
   "execution_count": 1,
   "metadata": {},
   "outputs": [],
   "source": [
    "import pandas as pd\n",
    "import numpy as np\n",
    "\n",
    "from sklearn.impute import SimpleImputer\n",
    "from sklearn.preprocessing import StandardScaler\n",
    "from sklearn.compose import ColumnTransformer\n",
    "from sklearn.pipeline import Pipeline\n",
    "\n",
    "from sklearn.cluster import KMeans\n",
    "\n",
    "from matplotlib import pyplot as plt"
   ]
  },
  {
   "cell_type": "code",
   "execution_count": 2,
   "metadata": {},
   "outputs": [
    {
     "data": {
      "text/html": [
       "<div>\n",
       "<style scoped>\n",
       "    .dataframe tbody tr th:only-of-type {\n",
       "        vertical-align: middle;\n",
       "    }\n",
       "\n",
       "    .dataframe tbody tr th {\n",
       "        vertical-align: top;\n",
       "    }\n",
       "\n",
       "    .dataframe thead th {\n",
       "        text-align: right;\n",
       "    }\n",
       "</style>\n",
       "<table border=\"1\" class=\"dataframe\">\n",
       "  <thead>\n",
       "    <tr style=\"text-align: right;\">\n",
       "      <th></th>\n",
       "      <th>cap-color-rate</th>\n",
       "      <th>stalk-color-above-ring-rate</th>\n",
       "    </tr>\n",
       "  </thead>\n",
       "  <tbody>\n",
       "    <tr>\n",
       "      <th>1</th>\n",
       "      <td>2.0</td>\n",
       "      <td>1.0</td>\n",
       "    </tr>\n",
       "    <tr>\n",
       "      <th>2</th>\n",
       "      <td>3.0</td>\n",
       "      <td>1.0</td>\n",
       "    </tr>\n",
       "    <tr>\n",
       "      <th>4</th>\n",
       "      <td>4.0</td>\n",
       "      <td>1.0</td>\n",
       "    </tr>\n",
       "    <tr>\n",
       "      <th>5</th>\n",
       "      <td>2.0</td>\n",
       "      <td>1.0</td>\n",
       "    </tr>\n",
       "    <tr>\n",
       "      <th>6</th>\n",
       "      <td>3.0</td>\n",
       "      <td>1.0</td>\n",
       "    </tr>\n",
       "    <tr>\n",
       "      <th>...</th>\n",
       "      <td>...</td>\n",
       "      <td>...</td>\n",
       "    </tr>\n",
       "    <tr>\n",
       "      <th>5815</th>\n",
       "      <td>1.0</td>\n",
       "      <td>7.0</td>\n",
       "    </tr>\n",
       "    <tr>\n",
       "      <th>5819</th>\n",
       "      <td>1.0</td>\n",
       "      <td>7.0</td>\n",
       "    </tr>\n",
       "    <tr>\n",
       "      <th>5820</th>\n",
       "      <td>1.0</td>\n",
       "      <td>7.0</td>\n",
       "    </tr>\n",
       "    <tr>\n",
       "      <th>5821</th>\n",
       "      <td>1.0</td>\n",
       "      <td>7.0</td>\n",
       "    </tr>\n",
       "    <tr>\n",
       "      <th>5823</th>\n",
       "      <td>1.0</td>\n",
       "      <td>7.0</td>\n",
       "    </tr>\n",
       "  </tbody>\n",
       "</table>\n",
       "<p>2104 rows × 2 columns</p>\n",
       "</div>"
      ],
      "text/plain": [
       "      cap-color-rate  stalk-color-above-ring-rate\n",
       "1                2.0                          1.0\n",
       "2                3.0                          1.0\n",
       "4                4.0                          1.0\n",
       "5                2.0                          1.0\n",
       "6                3.0                          1.0\n",
       "...              ...                          ...\n",
       "5815             1.0                          7.0\n",
       "5819             1.0                          7.0\n",
       "5820             1.0                          7.0\n",
       "5821             1.0                          7.0\n",
       "5823             1.0                          7.0\n",
       "\n",
       "[2104 rows x 2 columns]"
      ]
     },
     "execution_count": 2,
     "metadata": {},
     "output_type": "execute_result"
    }
   ],
   "source": [
    "df = pd.read_csv('hed2020_dataset.csv')\n",
    "\n",
    "df = df.loc[df['label']=='e', ['cap-color-rate','stalk-color-above-ring-rate']]\n",
    "\n",
    "df"
   ]
  },
  {
   "cell_type": "code",
   "execution_count": 3,
   "metadata": {},
   "outputs": [
    {
     "data": {
      "text/plain": [
       "array([[-0.73500484, -0.74760802],\n",
       "       [-0.23417985, -0.74760802],\n",
       "       [ 0.26664515, -0.74760802],\n",
       "       ...,\n",
       "       [-1.23582983,  2.43279003],\n",
       "       [-1.23582983,  2.43279003],\n",
       "       [-1.23582983,  2.43279003]])"
      ]
     },
     "execution_count": 3,
     "metadata": {},
     "output_type": "execute_result"
    }
   ],
   "source": [
    "transformer = Pipeline(steps=[('impute', SimpleImputer(strategy='mean')),\n",
    "                              ('scaler', StandardScaler())])\n",
    "\n",
    "\n",
    "processor = ColumnTransformer(transformers=[('cop-color-rate', transformer, ['cap-color-rate']),\n",
    "                                            ('stalk-coloe-above', transformer, ['stalk-color-above-ring-rate'])])\n",
    "\n",
    "processed_data = processor.fit_transform(df)\n",
    "\n",
    "processed_data"
   ]
  },
  {
   "cell_type": "code",
   "execution_count": 4,
   "metadata": {},
   "outputs": [
    {
     "data": {
      "text/plain": [
       "[('cop-color-rate',\n",
       "  Pipeline(steps=[('impute', SimpleImputer()), ('scaler', StandardScaler())]),\n",
       "  ['cap-color-rate']),\n",
       " ('stalk-coloe-above',\n",
       "  Pipeline(steps=[('impute', SimpleImputer()), ('scaler', StandardScaler())]),\n",
       "  ['stalk-color-above-ring-rate'])]"
      ]
     },
     "execution_count": 4,
     "metadata": {},
     "output_type": "execute_result"
    }
   ],
   "source": [
    "processor.transformers_"
   ]
  },
  {
   "cell_type": "code",
   "execution_count": 5,
   "metadata": {},
   "outputs": [
    {
     "data": {
      "text/plain": [
       "[(3.4675881792183034, 1.996705460954979),\n",
       " (2.4104046242774566, 1.886556308562811)]"
      ]
     },
     "execution_count": 5,
     "metadata": {},
     "output_type": "execute_result"
    }
   ],
   "source": [
    "coef = [(i[1].steps[1][1].mean_[0], i[1].steps[1][1].var_[0]**0.5) for i in processor.transformers_]\n",
    "\n",
    "coef"
   ]
  },
  {
   "cell_type": "code",
   "execution_count": 6,
   "metadata": {},
   "outputs": [
    {
     "name": "stderr",
     "output_type": "stream",
     "text": [
      "/Users/jirayuwat/anaconda3/envs/DSandDE/lib/python3.9/site-packages/sklearn/cluster/_kmeans.py:870: FutureWarning: The default value of `n_init` will change from 10 to 'auto' in 1.4. Set the value of `n_init` explicitly to suppress the warning\n",
      "  warnings.warn(\n"
     ]
    },
    {
     "data": {
      "text/plain": [
       "array([[ 0.41361805, -0.37536859],\n",
       "       [-1.23582983,  2.30658376],\n",
       "       [-1.22906193, -0.29354739],\n",
       "       [ 2.5059661 , -0.74760802],\n",
       "       [ 1.2093128 ,  1.90272369]])"
      ]
     },
     "execution_count": 6,
     "metadata": {},
     "output_type": "execute_result"
    }
   ],
   "source": [
    "kmean = KMeans(n_clusters=5,\n",
    "               random_state=2020).fit(processed_data)\n",
    "\n",
    "kmean.cluster_centers_"
   ]
  },
  {
   "cell_type": "code",
   "execution_count": 7,
   "metadata": {},
   "outputs": [
    {
     "name": "stdout",
     "output_type": "stream",
     "text": [
      "for group 0 : centriod=(4.293461595380345, 1.7022506456770388)\n",
      "for group 1 : centriod=(0.9999999999999996, 6.7619047619047645)\n",
      "for group 2 : centriod=(1.0135135135135078, 1.8566109462063218)\n",
      "for group 3 : centriod=(8.47126436781609, 1.0000000000000004)\n",
      "for group 4 : centriod=(5.882229651200753, 6.000000000000002)\n"
     ]
    }
   ],
   "source": [
    "for idx in range(5):\n",
    "    centriod_feature_1 = kmean.cluster_centers_[idx][0]*coef[0][1] + coef[0][0]\n",
    "    centriod_feature_2 = kmean.cluster_centers_[idx][1]*coef[1][1] + coef[1][0]\n",
    "\n",
    "    print(f\"for group {idx} : centriod=({centriod_feature_1}, {centriod_feature_2})\")"
   ]
  },
  {
   "cell_type": "code",
   "execution_count": 8,
   "metadata": {},
   "outputs": [
    {
     "data": {
      "image/png": "[encoded data removed]",
      "text/plain": [
       "<Figure size 640x480 with 1 Axes>"
      ]
     },
     "metadata": {},
     "output_type": "display_data"
    }
   ],
   "source": [
    "plt.scatter(processed_data[:,0], processed_data[:,1], c=kmean.labels_, alpha=0.5)\n",
    "\n",
    "for idx in range(5):\n",
    "    plt.scatter(kmean.cluster_centers_[idx][0], kmean.cluster_centers_[idx][1], s=50, c='red', alpha=0.5)"
   ]
  },
  {
   "cell_type": "code",
   "execution_count": null,
   "metadata": {},
   "outputs": [],
   "source": []
  }
 ],
 "metadata": {
  "kernelspec": {
   "display_name": "DSandDE",
   "language": "python",
   "name": "python3"
  },
  "language_info": {
   "codemirror_mode": {
    "name": "ipython",
    "version": 3
   },
   "file_extension": ".py",
   "mimetype": "text/x-python",
   "name": "python",
   "nbconvert_exporter": "python",
   "pygments_lexer": "ipython3",
   "version": "3.9.18"
  }
 },
 "nbformat": 4,
 "nbformat_minor": 2
}

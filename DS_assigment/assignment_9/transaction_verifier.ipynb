{
 "cells": [
  {
   "cell_type": "code",
   "execution_count": 1,
   "id": "3d144bf2",
   "metadata": {},
   "outputs": [],
   "source": [
    "# import required libraries\n",
    "from kafka import KafkaConsumer, KafkaProducer\n",
    "import avro.schema\n",
    "import avro.io\n",
    "import io\n",
    "import hashlib, json"
   ]
  },
  {
   "cell_type": "code",
   "execution_count": 2,
   "id": "6234ffde",
   "metadata": {},
   "outputs": [],
   "source": [
    "def serialize(schema, obj):\n",
    "    bytes_writer = io.BytesIO()\n",
    "    encoder = avro.io.BinaryEncoder(bytes_writer)\n",
    "    writer = avro.io.DatumWriter(schema)\n",
    "    writer.write(obj, encoder)\n",
    "    return bytes_writer.getvalue()"
   ]
  },
  {
   "cell_type": "code",
   "execution_count": 3,
   "id": "5e1434bb",
   "metadata": {},
   "outputs": [],
   "source": [
    "def deserialize(schema, raw_bytes):\n",
    "    bytes_reader = io.BytesIO(raw_bytes)\n",
    "    decoder = avro.io.BinaryDecoder(bytes_reader)\n",
    "    reader = avro.io.DatumReader(schema)\n",
    "    return reader.read(decoder)"
   ]
  },
  {
   "cell_type": "code",
   "execution_count": 4,
   "id": "0e92e3e9",
   "metadata": {},
   "outputs": [],
   "source": [
    "schema_file = 'transaction.avsc'\n",
    "txschema = avro.schema.parse(open(schema_file).read())\n",
    "schema_file = 'submit.avsc'\n",
    "submitschema = avro.schema.parse(open(schema_file).read())\n",
    "schema_file = 'result.avsc'\n",
    "resultschema = avro.schema.parse(open(schema_file).read())"
   ]
  },
  {
   "cell_type": "code",
   "execution_count": 5,
   "id": "bcb5dc21",
   "metadata": {},
   "outputs": [],
   "source": [
    "# Connect to kafka broker running in your local host (docker). Change this to your kafka broker if needed\n",
    "kafka_broker = 'lab.aimet.tech:9092'"
   ]
  },
  {
   "cell_type": "code",
   "execution_count": 6,
   "id": "0e05b4b0",
   "metadata": {},
   "outputs": [],
   "source": [
    "producer = KafkaProducer(bootstrap_servers=[kafka_broker])"
   ]
  },
  {
   "cell_type": "code",
   "execution_count": 7,
   "id": "4a2555a3",
   "metadata": {},
   "outputs": [],
   "source": [
    "txconsumer = KafkaConsumer(\n",
    "    'transaction',\n",
    "     bootstrap_servers=[kafka_broker],\n",
    "     enable_auto_commit=True,\n",
    "     value_deserializer=lambda x: deserialize(txschema, x))\n",
    "resultconsumer = KafkaConsumer(\n",
    "    'result',\n",
    "     bootstrap_servers=[kafka_broker],\n",
    "     enable_auto_commit=True,\n",
    "     value_deserializer=lambda x: deserialize(resultschema, x))"
   ]
  },
  {
   "cell_type": "code",
   "execution_count": 8,
   "id": "fe697a88",
   "metadata": {},
   "outputs": [],
   "source": [
    "def gen_signature(txid, payer, payee, amount, token):\n",
    "    o = {'txid': txid, 'payer': payer, 'payee': payee, 'amount': amount, 'token': token}\n",
    "    return hashlib.md5(json.dumps(o, sort_keys=True).encode('utf-8')).hexdigest()"
   ]
  },
  {
   "cell_type": "code",
   "execution_count": 48,
   "id": "16ec2623",
   "metadata": {},
   "outputs": [],
   "source": [
    "def verify_one(vid=r'V584056',\n",
    "               token=r'8a92988c02bd85f07f4e0e03b6b88c74',\n",
    "               verbose=True,\n",
    "               txconsumer=txconsumer,\n",
    "               producer=producer,\n",
    "               resultconsumer=resultconsumer,\n",
    "               submitschema=submitschema,):\n",
    "    # get msg\n",
    "    msg = next(txconsumer)\n",
    "    print(f'msg = {msg.value}')\n",
    "\n",
    "    # gen signature\n",
    "    signature = gen_signature(msg.value['txid'],\n",
    "                              msg.value['payer'],\n",
    "                              msg.value['payee'],\n",
    "                              msg.value['amount'],\n",
    "                              token)\n",
    "    print(f'signature = {signature}')\n",
    "\n",
    "    # submit\n",
    "    submit = {'vid': vid,\n",
    "              'txid': msg.value['txid'],\n",
    "              'signature': signature}\n",
    "    print(f'submit = {submit}')\n",
    "\n",
    "    # send submit\n",
    "    producer.send('submit', serialize(submitschema, submit))\n",
    "    \n",
    "    # get result\n",
    "    for result_msg in resultconsumer:\n",
    "        print('checking result : ', end='')\n",
    "        if result_msg.value['txid'] == msg.value['txid'] and result_msg.value['vid'] == vid:\n",
    "            print('matched!!')\n",
    "            for k, v in result_msg.value.items():\n",
    "                print(f'\\t{k} : {v}')\n",
    "            break\n",
    "        else:\n",
    "            print('not match')"
   ]
  },
  {
   "cell_type": "code",
   "execution_count": 49,
   "id": "966defd7",
   "metadata": {},
   "outputs": [
    {
     "name": "stdout",
     "output_type": "stream",
     "text": [
      "msg = {'txid': 'TX00208', 'payer': 'A07618', 'payee': 'A95820', 'amount': 377}\n",
      "signature = 3381c6d2dda951a6b5d46b7338884f7b\n",
      "submit = {'vid': 'V584056', 'txid': 'TX00208', 'signature': '3381c6d2dda951a6b5d46b7338884f7b'}\n",
      "checking result : matched!!\n",
      "\ttimestamp : 1711093796\n",
      "\tvid : V584056\n",
      "\ttxid : TX00208\n",
      "\tchecksum : 97dd65a8c7efafb6d21ce1f4cf9754f6\n",
      "\tcode : 200\n",
      "\tmessage : Confirm\n"
     ]
    }
   ],
   "source": [
    "verify_one()"
   ]
  },
  {
   "cell_type": "code",
   "execution_count": null,
   "id": "27fceecb",
   "metadata": {},
   "outputs": [],
   "source": []
  }
 ],
 "metadata": {
  "kernelspec": {
   "display_name": "Python 3 (ipykernel)",
   "language": "python",
   "name": "python3"
  },
  "language_info": {
   "codemirror_mode": {
    "name": "ipython",
    "version": 3
   },
   "file_extension": ".py",
   "mimetype": "text/x-python",
   "name": "python",
   "nbconvert_exporter": "python",
   "pygments_lexer": "ipython3",
   "version": "3.9.18"
  }
 },
 "nbformat": 4,
 "nbformat_minor": 5
}

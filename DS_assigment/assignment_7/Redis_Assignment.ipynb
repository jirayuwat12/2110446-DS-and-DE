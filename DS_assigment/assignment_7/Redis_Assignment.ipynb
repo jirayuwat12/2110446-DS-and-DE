{
 "cells": [
  {
   "cell_type": "markdown",
   "metadata": {},
   "source": [
    "# Redis Assignment\n",
    "In this assignment, you will access a redis server and user redis commands to find out answers.  The redis server is at *lab.aimet.tech*.  You also have to authenticate as username 'hw' with password 'hw'.  \n",
    "\n",
    "The populated data in the redis database is similar to the example \"simple social network\" in the class.  Answer all questions in mycourseville assignment.\n",
    "\n",
    "Note that this user can only use \"read\" commands e.g. \"get\", \"lrange\", \"llen\", \"scan\", etc."
   ]
  },
  {
   "cell_type": "code",
   "execution_count": 1,
   "metadata": {},
   "outputs": [],
   "source": [
    "# we will have to install redis in colab\n",
    "import sys\n",
    "IN_COLAB = 'google.colab' in sys.modules\n",
    "if IN_COLAB:\n",
    "  !pip install redis"
   ]
  },
  {
   "cell_type": "code",
   "execution_count": 2,
   "metadata": {},
   "outputs": [],
   "source": [
    "import redis"
   ]
  },
  {
   "cell_type": "code",
   "execution_count": 83,
   "metadata": {},
   "outputs": [
    {
     "data": {
      "text/plain": [
       "True"
      ]
     },
     "execution_count": 83,
     "metadata": {},
     "output_type": "execute_result"
    }
   ],
   "source": [
    "rd = redis.Redis(host='lab.aimet.tech', charset=\"utf-8\", decode_responses=True)\n",
    "rd.auth(username='hw', password='hw')"
   ]
  },
  {
   "cell_type": "markdown",
   "metadata": {},
   "source": [
    "## What is the username of user id \"600\"?"
   ]
  },
  {
   "cell_type": "code",
   "execution_count": 25,
   "metadata": {},
   "outputs": [
    {
     "data": {
      "text/plain": [
       "'cautiousCrackers9'"
      ]
     },
     "execution_count": 25,
     "metadata": {},
     "output_type": "execute_result"
    }
   ],
   "source": [
    "rd.get('user:600:name')"
   ]
  },
  {
   "cell_type": "markdown",
   "metadata": {},
   "source": [
    "## What is the id of username \"excitedPie4\" ?"
   ]
  },
  {
   "cell_type": "code",
   "execution_count": 29,
   "metadata": {},
   "outputs": [
    {
     "name": "stdout",
     "output_type": "stream",
     "text": [
      "id is 567\n"
     ]
    }
   ],
   "source": [
    "cursor = 0\n",
    "cursor, keys = rd.scan(cursor=cursor,\n",
    "                       match='user:*')\n",
    "\n",
    "while cursor > 0:\n",
    "    for key in keys:\n",
    "        if 'name' in key:\n",
    "            name = rd.get(key)\n",
    "            if name == 'excitedPie4':\n",
    "                id = key.split(':')[1]\n",
    "                print('id is',id)\n",
    "    cursor, keys = rd.scan(cursor=cursor,\n",
    "                        match='user:*')"
   ]
  },
  {
   "cell_type": "markdown",
   "metadata": {},
   "source": [
    "## How many users that \"excitedPie4\" follows ?"
   ]
  },
  {
   "cell_type": "code",
   "execution_count": 48,
   "metadata": {},
   "outputs": [
    {
     "name": "stdout",
     "output_type": "stream",
     "text": [
      "has 8 followers\n"
     ]
    }
   ],
   "source": [
    "follower = rd.smembers('user:567:followed_by')\n",
    "\n",
    "print(f\"has {len(follower)} followers\")"
   ]
  },
  {
   "cell_type": "markdown",
   "metadata": {},
   "source": [
    "## How many users are there in the database?"
   ]
  },
  {
   "cell_type": "code",
   "execution_count": 55,
   "metadata": {},
   "outputs": [
    {
     "name": "stdout",
     "output_type": "stream",
     "text": [
      "total 200 users in DB\n"
     ]
    }
   ],
   "source": [
    "member_set = set()\n",
    "\n",
    "cursor = 0\n",
    "cursor, keys = rd.scan(cursor=cursor,\n",
    "                       match='user:*')\n",
    "\n",
    "while cursor > 0:\n",
    "    for key in keys:\n",
    "        id = key.split(':')[1]\n",
    "        member_set.add(id)\n",
    "    cursor, keys = rd.scan(cursor=cursor,\n",
    "                        match='user:*')\n",
    "\n",
    "print(f\"total {len(member_set)} users in DB\")"
   ]
  },
  {
   "cell_type": "markdown",
   "metadata": {},
   "source": [
    "## What is the average number of follows per user?"
   ]
  },
  {
   "cell_type": "code",
   "execution_count": 74,
   "metadata": {},
   "outputs": [
    {
     "name": "stdout",
     "output_type": "stream",
     "text": [
      "searching id 547\n",
      "searching id 569\n",
      "searching id 534\n",
      "searching id 611\n",
      "searching id 638\n",
      "searching id 669\n",
      "searching id 504\n",
      "searching id 592\n",
      "searching id 510\n",
      "searching id 555\n",
      "searching id 539\n",
      "searching id 617\n",
      "searching id 662\n",
      "searching id 516\n",
      "searching id 695\n",
      "searching id 640\n",
      "searching id 537\n",
      "searching id 546\n",
      "searching id 590\n",
      "searching id 654\n",
      "searching id 501\n",
      "searching id 614\n",
      "searching id 700\n",
      "searching id 530\n",
      "searching id 519\n",
      "searching id 571\n",
      "searching id 691\n",
      "searching id 604\n",
      "searching id 616\n",
      "searching id 521\n",
      "searching id 580\n",
      "searching id 559\n",
      "searching id 568\n",
      "searching id 646\n",
      "searching id 666\n",
      "searching id 587\n",
      "searching id 596\n",
      "searching id 593\n",
      "searching id 518\n",
      "searching id 606\n",
      "searching id 563\n",
      "searching id 686\n",
      "searching id 572\n",
      "searching id 542\n",
      "searching id 541\n",
      "searching id 623\n",
      "searching id 625\n",
      "searching id 668\n",
      "searching id 599\n",
      "searching id 503\n",
      "searching id 598\n",
      "searching id 557\n",
      "searching id 552\n",
      "searching id 641\n",
      "searching id 586\n",
      "searching id 520\n",
      "searching id 655\n",
      "searching id 658\n",
      "searching id 526\n",
      "searching id 562\n",
      "searching id 676\n",
      "searching id 579\n",
      "searching id 567\n",
      "searching id 578\n",
      "searching id 576\n",
      "searching id 585\n",
      "searching id 514\n",
      "searching id 551\n",
      "searching id 633\n",
      "searching id 649\n",
      "searching id 699\n",
      "searching id 540\n",
      "searching id 577\n",
      "searching id 507\n",
      "searching id 637\n",
      "searching id 620\n",
      "searching id 560\n",
      "searching id 628\n",
      "searching id 690\n",
      "searching id 621\n",
      "searching id 543\n",
      "searching id 575\n",
      "searching id 618\n",
      "searching id 588\n",
      "searching id 671\n",
      "searching id 533\n",
      "searching id 624\n",
      "searching id 584\n",
      "searching id 605\n",
      "searching id 684\n",
      "searching id 678\n",
      "searching id 681\n",
      "searching id 515\n",
      "searching id 660\n",
      "searching id 642\n",
      "searching id 607\n",
      "searching id 554\n",
      "searching id 663\n",
      "searching id 545\n",
      "searching id 685\n",
      "searching id 647\n",
      "searching id 524\n",
      "searching id 680\n",
      "searching id 538\n",
      "searching id 564\n",
      "searching id 548\n",
      "searching id 644\n",
      "searching id 645\n",
      "searching id 610\n",
      "searching id 589\n",
      "searching id 613\n",
      "searching id 570\n",
      "searching id 566\n",
      "searching id 675\n",
      "searching id 664\n",
      "searching id 679\n",
      "searching id 544\n",
      "searching id 591\n",
      "searching id 630\n",
      "searching id 674\n",
      "searching id 506\n",
      "searching id 632\n",
      "searching id 602\n",
      "searching id 612\n",
      "searching id 513\n",
      "searching id 687\n",
      "searching id 657\n",
      "searching id 688\n",
      "searching id 597\n",
      "searching id 615\n",
      "searching id 531\n",
      "searching id 523\n",
      "searching id 536\n",
      "searching id 505\n",
      "searching id 525\n",
      "searching id 603\n",
      "searching id 594\n",
      "searching id 667\n",
      "searching id 573\n",
      "searching id 561\n",
      "searching id 529\n",
      "searching id 665\n",
      "searching id 512\n",
      "searching id 651\n",
      "searching id 608\n",
      "searching id 502\n",
      "searching id 582\n",
      "searching id 682\n",
      "searching id 656\n",
      "searching id 696\n",
      "searching id 648\n",
      "searching id 627\n",
      "searching id 629\n",
      "searching id 595\n",
      "searching id 631\n",
      "searching id 549\n",
      "searching id 693\n",
      "searching id 634\n",
      "searching id 694\n",
      "searching id 528\n",
      "searching id 626\n",
      "searching id 639\n",
      "searching id 517\n",
      "searching id 508\n",
      "searching id 652\n",
      "searching id 692\n",
      "searching id 565\n",
      "searching id 643\n",
      "searching id 659\n",
      "searching id 511\n",
      "searching id 697\n",
      "searching id 619\n",
      "searching id 636\n",
      "searching id 558\n",
      "searching id 601\n",
      "searching id 581\n"
     ]
    }
   ],
   "source": [
    "follows_count = dict()\n",
    "\n",
    "cursor = 0\n",
    "cursor, keys = rd.scan(cursor=cursor,\n",
    "                       match='user:*')\n",
    "\n",
    "while cursor > 0:\n",
    "    for key in keys:\n",
    "        id = key.split(':')[1]\n",
    "        if 'follows' in key:\n",
    "            print('searching id', id)\n",
    "            if id not in follows_count:\n",
    "                follows_set = rd.smembers(key)\n",
    "                follows_count[id] = follows_set\n",
    "            else:\n",
    "                follows_count[id] = follows_count[id].union(follows_set)\n",
    "    cursor, keys = rd.scan(cursor=cursor,\n",
    "                           match='user:*')"
   ]
  },
  {
   "cell_type": "code",
   "execution_count": 79,
   "metadata": {},
   "outputs": [
    {
     "name": "stdout",
     "output_type": "stream",
     "text": [
      "avg. follows is 8.6\n"
     ]
    }
   ],
   "source": [
    "acc_follows = 0\n",
    "for key, value in follows_count.items():\n",
    "    n_follows = len(value)\n",
    "    acc_follows += n_follows\n",
    "\n",
    "print(f\"avg. follows is {acc_follows/200:.3}\")\n",
    "    "
   ]
  },
  {
   "cell_type": "markdown",
   "metadata": {},
   "source": [
    "## How many users follows between 5-10 users?"
   ]
  },
  {
   "cell_type": "code",
   "execution_count": 80,
   "metadata": {},
   "outputs": [
    {
     "name": "stdout",
     "output_type": "stream",
     "text": [
      "has 60 users\n"
     ]
    }
   ],
   "source": [
    "n_users = 0\n",
    "for key, value in follows_count.items():\n",
    "    n_follows = len(value)\n",
    "    if 5 <= n_follows <= 10:\n",
    "        n_users += 1\n",
    "\n",
    "print('has', n_users, 'users')    "
   ]
  },
  {
   "cell_type": "markdown",
   "metadata": {},
   "source": [
    "## Which account has the most followers?"
   ]
  },
  {
   "cell_type": "code",
   "execution_count": 84,
   "metadata": {},
   "outputs": [],
   "source": [
    "max_followers = float('-inf')\n",
    "user_id = None\n",
    "\n",
    "cursor = 0\n",
    "cursor, keys = rd.scan(cursor=cursor,\n",
    "                       match='user:*')\n",
    "\n",
    "while cursor > 0:\n",
    "    for key in keys:\n",
    "        id = key.split(':')[1]\n",
    "        if 'followed_by' in key:\n",
    "            follower = rd.smembers(key)\n",
    "            if len(follower) > max_followers:\n",
    "                max_followers = len(follower)\n",
    "                user_id = id\n",
    "\n",
    "    cursor, keys = rd.scan(cursor=cursor,\n",
    "                           match='user:*')\n"
   ]
  },
  {
   "cell_type": "code",
   "execution_count": 85,
   "metadata": {},
   "outputs": [
    {
     "name": "stdout",
     "output_type": "stream",
     "text": [
      "most follower is (id=630, name=decimalGatorade1)\n"
     ]
    }
   ],
   "source": [
    "user_name = rd.get(f\"user:{id}:name\")\n",
    "print(f\"most follower is (id={user_id}, name={user_name})\")"
   ]
  }
 ],
 "metadata": {
  "kernelspec": {
   "display_name": "Python 3 (ipykernel)",
   "language": "python",
   "name": "python3"
  },
  "language_info": {
   "codemirror_mode": {
    "name": "ipython",
    "version": 3
   },
   "file_extension": ".py",
   "mimetype": "text/x-python",
   "name": "python",
   "nbconvert_exporter": "python",
   "pygments_lexer": "ipython3",
   "version": "3.9.18"
  },
  "toc": {
   "base_numbering": 1,
   "nav_menu": {},
   "number_sections": true,
   "sideBar": true,
   "skip_h1_title": false,
   "title_cell": "Table of Contents",
   "title_sidebar": "Contents",
   "toc_cell": false,
   "toc_position": {},
   "toc_section_display": true,
   "toc_window_display": false
  },
  "varInspector": {
   "cols": {
    "lenName": 16,
    "lenType": 16,
    "lenVar": 40
   },
   "kernels_config": {
    "python": {
     "delete_cmd_postfix": "",
     "delete_cmd_prefix": "del ",
     "library": "var_list.py",
     "varRefreshCmd": "print(var_dic_list())"
    },
    "r": {
     "delete_cmd_postfix": ") ",
     "delete_cmd_prefix": "rm(",
     "library": "var_list.r",
     "varRefreshCmd": "cat(var_dic_list()) "
    }
   },
   "types_to_exclude": [
    "module",
    "function",
    "builtin_function_or_method",
    "instance",
    "_Feature"
   ],
   "window_display": false
  }
 },
 "nbformat": 4,
 "nbformat_minor": 4
}

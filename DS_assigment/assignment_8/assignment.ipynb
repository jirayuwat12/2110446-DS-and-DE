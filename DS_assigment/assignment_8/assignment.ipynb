{
  "cells": [
    {
      "cell_type": "markdown",
      "metadata": {
        "id": "uDgyfc7wPCbT"
      },
      "source": [
        "# Assignment: Extracting Static WebPage\n",
        "\n",
        "Extract information about “วันพระ” for 3 years from:\n",
        "- https://www.myhora.com/ปฏิทิน/วันพระ-พ.ศ.2565.aspx\n",
        "- https://www.myhora.com/ปฏิทิน/วันพระ-พ.ศ.2566.aspx\n",
        "- https://www.myhora.com/ปฏิทิน/วันพระ-พ.ศ.2567.aspx\n"
      ]
    },
    {
      "cell_type": "markdown",
      "metadata": {
        "id": "1cKE7oZCPCbW"
      },
      "source": [
        "Note that you can use dateparse package to parse Thai date.  First, we will have to install the package, this is for Google Colab users.  Otherwise, installing via command line is recommended (pip or conda)."
      ]
    },
    {
      "cell_type": "code",
      "execution_count": 20,
      "metadata": {
        "id": "M_0-eFr9PCbW",
        "scrolled": true
      },
      "outputs": [],
      "source": [
        "import sys\n",
        "IN_COLAB = 'google.colab' in sys.modules\n",
        "if IN_COLAB:\n",
        "    %pip install dateparser"
      ]
    },
    {
      "cell_type": "code",
      "execution_count": 21,
      "metadata": {
        "id": "lktLXBbJPCbX"
      },
      "outputs": [],
      "source": [
        "import dateparser"
      ]
    },
    {
      "cell_type": "markdown",
      "metadata": {
        "id": "_jleBGiIPCbX"
      },
      "source": [
        "To convert from thai text date string, we will use the parse method.  Note that the parse method assumes the BC year, not BE.  Thus, we will have to subtract 543 from the year.  In addition, weekday() returns day of week with 0=Monday, ..., 6=Sunday."
      ]
    },
    {
      "cell_type": "code",
      "execution_count": 22,
      "metadata": {
        "id": "NW8pLM47PCbY"
      },
      "outputs": [
        {
          "name": "stdout",
          "output_type": "stream",
          "text": [
            "2563-01-17 00:00:00\n",
            "0\n",
            "2020-01-17 00:00:00\n",
            "4\n"
          ]
        }
      ],
      "source": [
        "dt = dateparser.parse('วันศุกร์ที่ 17 มกราคม 2563')\n",
        "\n",
        "# this will print out weekday == 0 (Monday)\n",
        "print(dt)\n",
        "print(dt.weekday())\n",
        "\n",
        "# this will print out weekday == 4 (Friday)\n",
        "dt = dt.replace(year=dt.year-543)\n",
        "print(dt)\n",
        "print(dt.weekday())"
      ]
    },
    {
      "cell_type": "code",
      "execution_count": 23,
      "metadata": {
        "id": "NTSJ_9kkPCbY"
      },
      "outputs": [
        {
          "name": "stdout",
          "output_type": "stream",
          "text": [
            "2021-09-21 00:00:00\n",
            "1\n"
          ]
        }
      ],
      "source": [
        "dt = dateparser.parse('วันเสาร์ที่ 21 กันยายน 2564')\n",
        "dt = dt.replace(year=dt.year-543)\n",
        "print(dt)\n",
        "print(dt.weekday())"
      ]
    },
    {
      "cell_type": "markdown",
      "metadata": {
        "id": "_mKdqO4qPCbY"
      },
      "source": [
        "Count the distribution of number of week days that are “วันพระ” for all three years and answer the following questions:"
      ]
    },
    {
      "cell_type": "code",
      "execution_count": 24,
      "metadata": {},
      "outputs": [],
      "source": [
        "import pandas as pd\n",
        "\n",
        "df = pd.read_csv('./data/wan-phra.csv')"
      ]
    },
    {
      "cell_type": "code",
      "execution_count": 25,
      "metadata": {},
      "outputs": [
        {
          "data": {
            "text/html": [
              "<div>\n",
              "<style scoped>\n",
              "    .dataframe tbody tr th:only-of-type {\n",
              "        vertical-align: middle;\n",
              "    }\n",
              "\n",
              "    .dataframe tbody tr th {\n",
              "        vertical-align: top;\n",
              "    }\n",
              "\n",
              "    .dataframe thead th {\n",
              "        text-align: right;\n",
              "    }\n",
              "</style>\n",
              "<table border=\"1\" class=\"dataframe\">\n",
              "  <thead>\n",
              "    <tr style=\"text-align: right;\">\n",
              "      <th></th>\n",
              "      <th>date</th>\n",
              "      <th>weekday</th>\n",
              "      <th>day</th>\n",
              "      <th>month</th>\n",
              "      <th>year</th>\n",
              "      <th>kheun</th>\n",
              "      <th>ram</th>\n",
              "      <th>lunar_month</th>\n",
              "      <th>lunar_year</th>\n",
              "      <th>event</th>\n",
              "    </tr>\n",
              "  </thead>\n",
              "  <tbody>\n",
              "    <tr>\n",
              "      <th>0</th>\n",
              "      <td>2022-01-02</td>\n",
              "      <td>6</td>\n",
              "      <td>2</td>\n",
              "      <td>1</td>\n",
              "      <td>2022</td>\n",
              "      <td>-1</td>\n",
              "      <td>14</td>\n",
              "      <td>1</td>\n",
              "      <td>ฉลู</td>\n",
              "      <td>NaN</td>\n",
              "    </tr>\n",
              "    <tr>\n",
              "      <th>1</th>\n",
              "      <td>2022-01-10</td>\n",
              "      <td>0</td>\n",
              "      <td>10</td>\n",
              "      <td>1</td>\n",
              "      <td>2022</td>\n",
              "      <td>8</td>\n",
              "      <td>-1</td>\n",
              "      <td>2</td>\n",
              "      <td>ฉลู</td>\n",
              "      <td>NaN</td>\n",
              "    </tr>\n",
              "    <tr>\n",
              "      <th>2</th>\n",
              "      <td>2022-01-17</td>\n",
              "      <td>0</td>\n",
              "      <td>17</td>\n",
              "      <td>1</td>\n",
              "      <td>2022</td>\n",
              "      <td>15</td>\n",
              "      <td>-1</td>\n",
              "      <td>2</td>\n",
              "      <td>ฉลู</td>\n",
              "      <td>NaN</td>\n",
              "    </tr>\n",
              "    <tr>\n",
              "      <th>3</th>\n",
              "      <td>2022-01-25</td>\n",
              "      <td>1</td>\n",
              "      <td>25</td>\n",
              "      <td>1</td>\n",
              "      <td>2022</td>\n",
              "      <td>-1</td>\n",
              "      <td>8</td>\n",
              "      <td>2</td>\n",
              "      <td>ฉลู</td>\n",
              "      <td>NaN</td>\n",
              "    </tr>\n",
              "    <tr>\n",
              "      <th>4</th>\n",
              "      <td>2022-02-01</td>\n",
              "      <td>1</td>\n",
              "      <td>1</td>\n",
              "      <td>2</td>\n",
              "      <td>2022</td>\n",
              "      <td>-1</td>\n",
              "      <td>15</td>\n",
              "      <td>2</td>\n",
              "      <td>ฉลู</td>\n",
              "      <td>NaN</td>\n",
              "    </tr>\n",
              "  </tbody>\n",
              "</table>\n",
              "</div>"
            ],
            "text/plain": [
              "         date  weekday  day  month  year  kheun  ram  lunar_month lunar_year  \\\n",
              "0  2022-01-02        6    2      1  2022     -1   14            1        ฉลู   \n",
              "1  2022-01-10        0   10      1  2022      8   -1            2        ฉลู   \n",
              "2  2022-01-17        0   17      1  2022     15   -1            2        ฉลู   \n",
              "3  2022-01-25        1   25      1  2022     -1    8            2        ฉลู   \n",
              "4  2022-02-01        1    1      2  2022     -1   15            2        ฉลู   \n",
              "\n",
              "  event  \n",
              "0   NaN  \n",
              "1   NaN  \n",
              "2   NaN  \n",
              "3   NaN  \n",
              "4   NaN  "
            ]
          },
          "execution_count": 25,
          "metadata": {},
          "output_type": "execute_result"
        }
      ],
      "source": [
        "df.head()"
      ]
    },
    {
      "cell_type": "markdown",
      "metadata": {},
      "source": [
        "## Import and set-up const."
      ]
    },
    {
      "cell_type": "code",
      "execution_count": 26,
      "metadata": {},
      "outputs": [],
      "source": [
        "import os\n",
        "import sys\n",
        "import dateparser\n",
        "from bs4 import BeautifulSoup as bs\n",
        "import requests\n",
        "import re\n",
        "import json\n",
        "from tqdm import tqdm\n",
        "\n",
        "import pandas as pd\n",
        "import numpy as np"
      ]
    },
    {
      "cell_type": "code",
      "execution_count": 27,
      "metadata": {},
      "outputs": [],
      "source": [
        "BASE_URL = r'https://www.myhora.com/ปฏิทิน/วันพระ-พ.ศ.{}.aspx'\n",
        "YEAR_LIST = [2565, 2566, 2567]\n",
        "\n",
        "TARGET_DIR = './data'"
      ]
    },
    {
      "cell_type": "code",
      "execution_count": 28,
      "metadata": {},
      "outputs": [],
      "source": [
        "thai2eng_mapping = {}\n",
        "\n",
        "for n in range(10):\n",
        "    thai2eng_mapping[chr(ord('๐')+n)] = str(n)"
      ]
    },
    {
      "cell_type": "markdown",
      "metadata": {},
      "source": [
        "## Extract info."
      ]
    },
    {
      "cell_type": "code",
      "execution_count": 29,
      "metadata": {},
      "outputs": [
        {
          "name": "stderr",
          "output_type": "stream",
          "text": [
            "extracting from 2565:   0%|          | 0/51 [00:00<?, ?day/s]/var/folders/5g/160h3py942nb4pbbgy0dhtz40000gn/T/ipykernel_14497/4127778852.py:33: FutureWarning: The behavior of DataFrame concatenation with empty or all-NA entries is deprecated. In a future version, this will no longer exclude empty or all-NA columns when determining the result dtypes. To retain the old behavior, exclude the relevant entries before the concat operation.\n",
            "  df = pd.concat([df, pd.DataFrame([row])])\n",
            "extracting from 2565: 100%|██████████| 51/51 [00:00<00:00, 513.85day/s]\n",
            "extracting from 2566: 100%|██████████| 50/50 [00:00<00:00, 410.16day/s]\n",
            "extracting from 2567: 100%|██████████| 51/51 [00:00<00:00, 496.50day/s]\n"
          ]
        }
      ],
      "source": [
        "df = pd.DataFrame(columns=['date', 'weekday', 'day', 'month', 'year', 'kheun', 'ram', 'lunar_month', 'lunar_year', 'event'])\n",
        "\n",
        "for year in YEAR_LIST:\n",
        "    current_url = BASE_URL.format(year)\n",
        "    response = requests.get(current_url)\n",
        "    soup = bs(response.text, 'html.parser')\n",
        "\n",
        "    bud_list = soup.find_all('div', class_='bud-day')\n",
        "\n",
        "    looper = tqdm(bud_list,\n",
        "                  desc=f\"extracting from {year}\",\n",
        "                  unit=\"day\")\n",
        "    for day in looper:\n",
        "        normal_date, lunar_date, event = bs.find_all(day, 'div')\n",
        "\n",
        "        normal_date = dateparser.parse(normal_date.text)\n",
        "        normal_date = normal_date.replace(year=normal_date.year-543)\n",
        "        lunar_date = ''.join([c if c not in thai2eng_mapping else thai2eng_mapping[c] for c in lunar_date.text])\n",
        "        event = event.text\n",
        "\n",
        "        row = {\n",
        "            'date' : normal_date,\n",
        "            'weekday' : normal_date.weekday(),\n",
        "            'day' : normal_date.day,\n",
        "            'month' : normal_date.month,\n",
        "            'year' : normal_date.year,\n",
        "            'kheun' : -1 if 'ขึ้น' not in lunar_date else lunar_date.split(' ')[1],\n",
        "            'ram' : -1 if 'แรม' not in lunar_date else lunar_date.split(' ')[1],\n",
        "            'lunar_month' : -1 if 'เดือน' not in lunar_date else re.findall(r'.*\\((\\d+)\\).*', lunar_date)[0],\n",
        "            'lunar_year' : -1 if 'ปี' not in lunar_date else lunar_date.split('ปี')[1],\n",
        "            'event' : event.strip('()') if event else None\n",
        "        }\n",
        "        df = pd.concat([df, pd.DataFrame([row])])\n",
        "\n",
        "df.index = df['date']\n",
        "df = df.drop(columns=['date'])"
      ]
    },
    {
      "cell_type": "code",
      "execution_count": 30,
      "metadata": {},
      "outputs": [
        {
          "data": {
            "text/html": [
              "<div>\n",
              "<style scoped>\n",
              "    .dataframe tbody tr th:only-of-type {\n",
              "        vertical-align: middle;\n",
              "    }\n",
              "\n",
              "    .dataframe tbody tr th {\n",
              "        vertical-align: top;\n",
              "    }\n",
              "\n",
              "    .dataframe thead th {\n",
              "        text-align: right;\n",
              "    }\n",
              "</style>\n",
              "<table border=\"1\" class=\"dataframe\">\n",
              "  <thead>\n",
              "    <tr style=\"text-align: right;\">\n",
              "      <th></th>\n",
              "      <th>weekday</th>\n",
              "      <th>day</th>\n",
              "      <th>month</th>\n",
              "      <th>year</th>\n",
              "      <th>kheun</th>\n",
              "      <th>ram</th>\n",
              "      <th>lunar_month</th>\n",
              "      <th>lunar_year</th>\n",
              "      <th>event</th>\n",
              "    </tr>\n",
              "    <tr>\n",
              "      <th>date</th>\n",
              "      <th></th>\n",
              "      <th></th>\n",
              "      <th></th>\n",
              "      <th></th>\n",
              "      <th></th>\n",
              "      <th></th>\n",
              "      <th></th>\n",
              "      <th></th>\n",
              "      <th></th>\n",
              "    </tr>\n",
              "  </thead>\n",
              "  <tbody>\n",
              "    <tr>\n",
              "      <th>2022-01-02</th>\n",
              "      <td>6</td>\n",
              "      <td>2</td>\n",
              "      <td>1</td>\n",
              "      <td>2022</td>\n",
              "      <td>-1</td>\n",
              "      <td>14</td>\n",
              "      <td>1</td>\n",
              "      <td>ฉลู</td>\n",
              "      <td>None</td>\n",
              "    </tr>\n",
              "    <tr>\n",
              "      <th>2022-01-10</th>\n",
              "      <td>0</td>\n",
              "      <td>10</td>\n",
              "      <td>1</td>\n",
              "      <td>2022</td>\n",
              "      <td>8</td>\n",
              "      <td>-1</td>\n",
              "      <td>2</td>\n",
              "      <td>ฉลู</td>\n",
              "      <td>None</td>\n",
              "    </tr>\n",
              "    <tr>\n",
              "      <th>2022-01-17</th>\n",
              "      <td>0</td>\n",
              "      <td>17</td>\n",
              "      <td>1</td>\n",
              "      <td>2022</td>\n",
              "      <td>15</td>\n",
              "      <td>-1</td>\n",
              "      <td>2</td>\n",
              "      <td>ฉลู</td>\n",
              "      <td>None</td>\n",
              "    </tr>\n",
              "    <tr>\n",
              "      <th>2022-01-25</th>\n",
              "      <td>1</td>\n",
              "      <td>25</td>\n",
              "      <td>1</td>\n",
              "      <td>2022</td>\n",
              "      <td>-1</td>\n",
              "      <td>8</td>\n",
              "      <td>2</td>\n",
              "      <td>ฉลู</td>\n",
              "      <td>None</td>\n",
              "    </tr>\n",
              "    <tr>\n",
              "      <th>2022-02-01</th>\n",
              "      <td>1</td>\n",
              "      <td>1</td>\n",
              "      <td>2</td>\n",
              "      <td>2022</td>\n",
              "      <td>-1</td>\n",
              "      <td>15</td>\n",
              "      <td>2</td>\n",
              "      <td>ฉลู</td>\n",
              "      <td>None</td>\n",
              "    </tr>\n",
              "    <tr>\n",
              "      <th>2022-02-09</th>\n",
              "      <td>2</td>\n",
              "      <td>9</td>\n",
              "      <td>2</td>\n",
              "      <td>2022</td>\n",
              "      <td>8</td>\n",
              "      <td>-1</td>\n",
              "      <td>3</td>\n",
              "      <td>ฉลู</td>\n",
              "      <td>None</td>\n",
              "    </tr>\n",
              "    <tr>\n",
              "      <th>2022-02-16</th>\n",
              "      <td>2</td>\n",
              "      <td>16</td>\n",
              "      <td>2</td>\n",
              "      <td>2022</td>\n",
              "      <td>15</td>\n",
              "      <td>-1</td>\n",
              "      <td>3</td>\n",
              "      <td>ฉลู</td>\n",
              "      <td>วันมาฆบูชา</td>\n",
              "    </tr>\n",
              "    <tr>\n",
              "      <th>2022-02-24</th>\n",
              "      <td>3</td>\n",
              "      <td>24</td>\n",
              "      <td>2</td>\n",
              "      <td>2022</td>\n",
              "      <td>-1</td>\n",
              "      <td>8</td>\n",
              "      <td>3</td>\n",
              "      <td>ฉลู</td>\n",
              "      <td>None</td>\n",
              "    </tr>\n",
              "    <tr>\n",
              "      <th>2022-03-02</th>\n",
              "      <td>2</td>\n",
              "      <td>2</td>\n",
              "      <td>3</td>\n",
              "      <td>2022</td>\n",
              "      <td>-1</td>\n",
              "      <td>14</td>\n",
              "      <td>3</td>\n",
              "      <td>ฉลู</td>\n",
              "      <td>None</td>\n",
              "    </tr>\n",
              "    <tr>\n",
              "      <th>2022-03-10</th>\n",
              "      <td>3</td>\n",
              "      <td>10</td>\n",
              "      <td>3</td>\n",
              "      <td>2022</td>\n",
              "      <td>8</td>\n",
              "      <td>-1</td>\n",
              "      <td>4</td>\n",
              "      <td>ฉลู</td>\n",
              "      <td>None</td>\n",
              "    </tr>\n",
              "  </tbody>\n",
              "</table>\n",
              "</div>"
            ],
            "text/plain": [
              "           weekday day month  year kheun ram lunar_month lunar_year  \\\n",
              "date                                                                  \n",
              "2022-01-02       6   2     1  2022    -1  14           1        ฉลู   \n",
              "2022-01-10       0  10     1  2022     8  -1           2        ฉลู   \n",
              "2022-01-17       0  17     1  2022    15  -1           2        ฉลู   \n",
              "2022-01-25       1  25     1  2022    -1   8           2        ฉลู   \n",
              "2022-02-01       1   1     2  2022    -1  15           2        ฉลู   \n",
              "2022-02-09       2   9     2  2022     8  -1           3        ฉลู   \n",
              "2022-02-16       2  16     2  2022    15  -1           3        ฉลู   \n",
              "2022-02-24       3  24     2  2022    -1   8           3        ฉลู   \n",
              "2022-03-02       2   2     3  2022    -1  14           3        ฉลู   \n",
              "2022-03-10       3  10     3  2022     8  -1           4        ฉลู   \n",
              "\n",
              "                 event  \n",
              "date                    \n",
              "2022-01-02        None  \n",
              "2022-01-10        None  \n",
              "2022-01-17        None  \n",
              "2022-01-25        None  \n",
              "2022-02-01        None  \n",
              "2022-02-09        None  \n",
              "2022-02-16  วันมาฆบูชา  \n",
              "2022-02-24        None  \n",
              "2022-03-02        None  \n",
              "2022-03-10        None  "
            ]
          },
          "execution_count": 30,
          "metadata": {},
          "output_type": "execute_result"
        }
      ],
      "source": [
        "df.head(10)"
      ]
    },
    {
      "cell_type": "code",
      "execution_count": 31,
      "metadata": {},
      "outputs": [],
      "source": [
        "if not os.path.exists(TARGET_DIR):\n",
        "    os.makedirs(TARGET_DIR)\n",
        "df.to_csv(os.path.join(TARGET_DIR, 'wan-phra.csv'), index=True)"
      ]
    },
    {
      "cell_type": "markdown",
      "metadata": {
        "id": "yrBLfsrcPCbZ"
      },
      "source": [
        "## How many วันพระ in total (of 3 years)?"
      ]
    },
    {
      "cell_type": "code",
      "execution_count": 32,
      "metadata": {
        "id": "xySIhBJ-PCbZ"
      },
      "outputs": [
        {
          "name": "stdout",
          "output_type": "stream",
          "text": [
            "152\n"
          ]
        }
      ],
      "source": [
        "print(len(df))"
      ]
    },
    {
      "cell_type": "markdown",
      "metadata": {
        "id": "ot5pRsd4PCbZ"
      },
      "source": [
        "## How many days in total (of 3 years) that วันพระ is Monday?"
      ]
    },
    {
      "cell_type": "code",
      "execution_count": 33,
      "metadata": {
        "id": "tLkBADn6PCbZ"
      },
      "outputs": [
        {
          "name": "stdout",
          "output_type": "stream",
          "text": [
            "21\n"
          ]
        }
      ],
      "source": [
        "print(len(df[df['weekday'] == 0]))"
      ]
    },
    {
      "cell_type": "markdown",
      "metadata": {
        "id": "aT6gEah1PCbZ"
      },
      "source": [
        "## Which day of the week that has the minimum number of วันพระ?"
      ]
    },
    {
      "cell_type": "code",
      "execution_count": 34,
      "metadata": {
        "id": "7kCTt_DoPCbZ"
      },
      "outputs": [
        {
          "data": {
            "text/plain": [
              "weekday\n",
              "0    21\n",
              "1    20\n",
              "2    22\n",
              "3    23\n",
              "4    21\n",
              "5    21\n",
              "6    24\n",
              "dtype: int64"
            ]
          },
          "execution_count": 34,
          "metadata": {},
          "output_type": "execute_result"
        }
      ],
      "source": [
        "df.groupby('weekday').size()"
      ]
    },
    {
      "cell_type": "markdown",
      "metadata": {
        "id": "5wRAVLAgPCbZ"
      },
      "source": [
        "## Which day of the week that has the maximum number of วันพระ?"
      ]
    },
    {
      "cell_type": "code",
      "execution_count": 35,
      "metadata": {},
      "outputs": [
        {
          "data": {
            "text/plain": [
              "weekday\n",
              "0    21\n",
              "1    20\n",
              "2    22\n",
              "3    23\n",
              "4    21\n",
              "5    21\n",
              "6    24\n",
              "dtype: int64"
            ]
          },
          "execution_count": 35,
          "metadata": {},
          "output_type": "execute_result"
        }
      ],
      "source": [
        "df.groupby('weekday').size()"
      ]
    }
  ],
  "metadata": {
    "colab": {
      "provenance": []
    },
    "kernelspec": {
      "display_name": "Python 3 (ipykernel)",
      "language": "python",
      "name": "python3"
    },
    "language_info": {
      "codemirror_mode": {
        "name": "ipython",
        "version": 3
      },
      "file_extension": ".py",
      "mimetype": "text/x-python",
      "name": "python",
      "nbconvert_exporter": "python",
      "pygments_lexer": "ipython3",
      "version": "3.9.18"
    },
    "toc": {
      "base_numbering": 1,
      "nav_menu": {},
      "number_sections": true,
      "sideBar": true,
      "skip_h1_title": false,
      "title_cell": "Table of Contents",
      "title_sidebar": "Contents",
      "toc_cell": false,
      "toc_position": {},
      "toc_section_display": true,
      "toc_window_display": false
    },
    "varInspector": {
      "cols": {
        "lenName": 16,
        "lenType": 16,
        "lenVar": 40
      },
      "kernels_config": {
        "python": {
          "delete_cmd_postfix": "",
          "delete_cmd_prefix": "del ",
          "library": "var_list.py",
          "varRefreshCmd": "print(var_dic_list())"
        },
        "r": {
          "delete_cmd_postfix": ") ",
          "delete_cmd_prefix": "rm(",
          "library": "var_list.r",
          "varRefreshCmd": "cat(var_dic_list()) "
        }
      },
      "types_to_exclude": [
        "module",
        "function",
        "builtin_function_or_method",
        "instance",
        "_Feature"
      ],
      "window_display": false
    }
  },
  "nbformat": 4,
  "nbformat_minor": 0
}
